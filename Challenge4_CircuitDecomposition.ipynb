{
 "cells": [
  {
   "cell_type": "markdown",
   "metadata": {},
   "source": [
    "# Exercise 4: Circuit Decomposition\n",
    "Wow! If you managed to solve the first three exercises, congratulations! The fourth problem is supposed to puzzle even the quantum experts among you, so don’t worry if you cannot solve it. If you can, hats off to you!\n",
    "\n",
    "You may recall from your quantum mechanics course that quantum theory is unitary. Therefore, the evolution of any (closed) system can be described by a unitary. But given an arbitrary unitary, can you actually implement it on your quantum computer?\n",
    "\n",
    "**\"A set of quantum gates is said to be universal if any unitary transformation of the quantum data can be efficiently approximated arbitrarily well as a sequence of gates in the set.\"** (https://qiskit.org/textbook/ch-algorithms/defining-quantum-circuits.html)\n",
    "\n",
    "Every gate you run on the IBM Quantum Experience is transpiled into single qubit rotations and CNOT (CX) gates. We know that these constitute a universal gate set, which implies that any unitary can be implemented using only these gates. However, in general it is not easy to find a good decomposition for an arbitrary unitary. Your task is to find such a decomposition.\n",
    "\n",
    "You are given the following unitary:"
   ]
  },
  {
   "cell_type": "code",
   "execution_count": 1,
   "metadata": {
    "scrolled": false
   },
   "outputs": [
    {
     "name": "stdout",
     "output_type": "stream",
     "text": [
      "U has shape (16, 16)\n"
     ]
    }
   ],
   "source": [
    "from may4_challenge.ex4 import get_unitary\n",
    "U = get_unitary()\n",
    "#print(U)\n",
    "print(\"U has shape\", U.shape)\n",
    "      "
   ]
  },
  {
   "cell_type": "markdown",
   "metadata": {},
   "source": [
    "#### What circuit would make such a complicated unitary?\n",
    "\n",
    "Is there some symmetry, or is it random? We just updated Qiskit with the introduction of a quantum circuit library (https://github.com/Qiskit/qiskit-terra/tree/master/qiskit/circuit/library). This library gives users access to a rich set of well-studied circuit families, instances of which can be used as benchmarks (quantum volume), as building blocks in building more complex circuits (adders), or as tools to explore quantum computational advantage over classical computation (instantaneous quantum polynomial complexity circuits)."
   ]
  },
  {
   "cell_type": "code",
   "execution_count": 22,
   "metadata": {},
   "outputs": [],
   "source": [
    "from qiskit import QuantumCircuit\n",
    "from qiskit import QuantumRegister, QuantumCircuit, ClassicalRegister\n",
    "\n",
    "from may4_challenge.ex4 import check_circuit, submit_circuit"
   ]
  },
  {
   "cell_type": "markdown",
   "metadata": {},
   "source": [
    "**Using only single qubit rotations and CNOT gates, find a quantum circuit that approximates that unitary $U$ by a unitary $V$ up to an error $\\varepsilon = 0.01$, such that $\\lVert U - V\\rVert_2 \\leq \\varepsilon$ !** \n",
    "\n",
    "Note that the norm we are using here is the spectral norm, $\\qquad \\lVert A \\rVert_2 = \\max_{\\lVert \\psi \\rVert_2= 1} \\lVert A \\psi \\rVert$.\n",
    "\n",
    "This can be seen as the largest scaling factor that the matrix $A$ has on any initial (normalized) state $\\psi$. One can show that this norm corresponds to the largest singular value of $A$, i.e., the square root of the largest eigenvalue of the matrix $A^\\dagger A$, where $A^{\\dagger}$ denotes the conjugate transpose of $A$.\n",
    "\n",
    "**When you submit a circuit, we remove the global phase of the corresponding unitary $V$ before comparing it with $U$ using the spectral norm. For example, if you submit a circuit that generates $V = \\text{e}^{i\\theta}U$, we remove the global phase $\\text{e}^{i\\theta}$ from $V$ before computing the norm, and you will have a successful submission. As a result, you do not have to worry about matching the desired unitary, $U$, up to a global phase.**\n",
    "\n",
    "As the single-qubit gates have a much higher fidelity than the two-qubit gates, we will look at the number of CNOT-gates, $n_{cx}$, and the number of u3-gates, $n_{u3}$, to determine the cost of your decomposition as \n",
    "\n",
    "$$\n",
    "\\qquad \\text{cost} = 10 \\cdot n_{cx} + n_{u3}\n",
    "$$\n",
    "\n",
    "Try to optimize the cost of your decomposition. \n",
    "\n",
    "**Note that you will need to ensure that your circuit is composed only of $u3$ and $cx$ gates. The exercise is considered correctly solved if your cost is smaller than 1600.**\n",
    "\n",
    "---\n",
    "For useful tips to complete this exercise as well as pointers for communicating with other participants and asking questions, please take a look at the following [repository](https://github.com/qiskit-community/may4_challenge_exercises). You will also find a copy of these exercises, so feel free to edit and experiment with these notebooks.\n",
    "\n",
    "---"
   ]
  },
  {
   "cell_type": "code",
   "execution_count": 1,
   "metadata": {},
   "outputs": [
    {
     "name": "stdout",
     "output_type": "stream",
     "text": [
      "Circuit stats:\n",
      "||U-V||_2 = 7.802192551692307e-15\n",
      "(U is the reference unitary, V is yours, and the global phase has been removed from both of them).\n",
      "Cost is 148\n",
      "\n",
      "Great! Your circuit meets all the constrains.\n",
      "Your score is 148. The lower, the better!\n",
      "Feel free to submit your answer and remember you can re-submit a new circuit at any time!\n"
     ]
    }
   ],
   "source": [
    "from may4_challenge.ex4 import get_unitary\n",
    "from qiskit import QuantumCircuit\n",
    "from qiskit import QuantumRegister, QuantumCircuit, ClassicalRegister\n",
    "from may4_challenge.ex4 import check_circuit, submit_circuit\n",
    "from qiskit.compiler import transpile\n",
    "from qiskit import Aer\n",
    "import numpy as np\n",
    "import math\n",
    "from qiskit import *\n",
    "from qiskit.tools.visualization import *\n",
    "from qiskit.visualization import *\n",
    "from scipy.linalg import hadamard\n",
    "from sympy import *\n",
    "\n",
    "U = get_unitary()\n",
    "\n",
    "q = QuantumRegister(4)\n",
    "c = ClassicalRegister(4)\n",
    "qc = QuantumCircuit(q,c)\n",
    "# H = np.array( [\n",
    "#    [1 ,  1 ,  1 ,  1 ,  1 ,  1 ,  1 ,  1 ,  1 ,  1 ,  1 ,  1 ,  1 ,  1 ,  1 ,  1],\n",
    "#    [1 , -1 ,  1 , -1 ,  1 , -1 ,  1 , -1 ,  1 , -1 ,  1 , -1 ,  1 , -1 ,  1 , -1],\n",
    "#    [1 ,  1 , -1 , -1 ,  1 ,  1 , -1 , -1 ,  1 ,  1 , -1 , -1 ,  1 ,  1 , -1 , -1],\n",
    "#    [1 , -1 , -1 ,  1 ,  1 , -1 , -1 ,  1 ,  1 , -1 , -1 ,  1 ,  1 , -1 , -1 ,  1],\n",
    "#    [1 ,  1 ,  1 ,  1 , -1 , -1 , -1 , -1 ,  1 ,  1 ,  1 ,  1 , -1 , -1 , -1 , -1],\n",
    "#    [1 , -1 ,  1 , -1 , -1 ,  1 , -1 ,  1 ,  1 , -1 ,  1 , -1 , -1 ,  1 , -1 ,  1],\n",
    "#    [1 ,  1 , -1 , -1 , -1 , -1 ,  1 ,  1 ,  1 ,  1 , -1 , -1 , -1 , -1 ,  1 ,  1],\n",
    "#    [1 , -1 , -1 ,  1 , -1 ,  1 ,  1 , -1 ,  1 , -1 , -1 ,  1 , -1 ,  1 ,  1 , -1],\n",
    "#    [1 ,  1 ,  1 ,  1 ,  1 ,  1 ,  1 ,  1 , -1 , -1 , -1 , -1 , -1 , -1 , -1 , -1],\n",
    "#    [1 , -1 ,  1 , -1 ,  1 , -1 ,  1 , -1 , -1 ,  1 , -1 ,  1 , -1 ,  1 , -1 ,  1],\n",
    "#    [1 ,  1 , -1 , -1 ,  1 ,  1 , -1 , -1 , -1 , -1 ,  1 ,  1 , -1 , -1 ,  1 ,  1],\n",
    "#    [1 , -1 , -1 ,  1 ,  1 , -1 , -1 ,  1 , -1 ,  1 ,  1 , -1 , -1 ,  1 ,  1 , -1],\n",
    "#    [1 ,  1 ,  1 ,  1 , -1 , -1 , -1 , -1 , -1 , -1 , -1 , -1 ,  1 ,  1 ,  1 ,  1],\n",
    "#    [1 , -1 ,  1 , -1 , -1 ,  1 , -1 ,  1 , -1 ,  1 , -1 ,  1 ,  1 , -1 ,  1 , -1],\n",
    "#    [1 ,  1 , -1 , -1 , -1 , -1 ,  1 ,  1 , -1 , -1 ,  1 ,  1 ,  1 ,  1 , -1 , -1],\n",
    "#    [1 , -1 , -1 ,  1 , -1 ,  1 ,  1 , -1 , -1 ,  1 ,  1 , -1 ,  1 , -1 , -1 ,  1]\n",
    "# ])\n",
    "# H = H/4\n",
    "\n",
    "# x = np.diag(U).tolist()\n",
    "# qc.diagonal(x, q)\n",
    "# P, D = U.diagonalize()  \n",
    "\n",
    "h = hadamard(16, dtype=complex) / 4\n",
    "v = np.matmul(h,U)\n",
    "i = np.matmul(v,h)\n",
    "%matplotlib inline\n",
    "# qc.draw(output = 'mpl')\n",
    "# apply operations to your quantum circuit here\n",
    "\n",
    "qc.h(0)\n",
    "qc.h(1)\n",
    "qc.h(2)\n",
    "qc.h(3)\n",
    "\n",
    "# x = np.diag(i).tolist()\n",
    "# qc.diagonal(x, q)\n",
    "qc.iso(i,q[:4],q[4:])\n",
    "qc.h(0)\n",
    "qc.h(1)\n",
    "qc.h(2)\n",
    "qc.h(3)\n",
    "qc.draw(output = 'mpl')\n",
    "\n",
    "sim = Aer.get_backend('qasm_simulator') # we choose the simulator as our backend\n",
    "new_qc = transpile(qc,backend = sim, basis_gates=['u3', 'cx'],seed_transpiler=11, optimization_level=3)\n",
    "# new_qc.draw(output='mpl')\n",
    "g = new_qc.decompose()\n",
    "check_circuit(g)\n",
    "from may4_challenge.ex4 import submit_circuit\n",
    "submit_circuit(new_qc)\n",
    "# plot_state_hinton(U)\n",
    "# import matplotlib as mpl\n",
    "# import seaborn as sns\n",
    "# import numpy as np\n",
    "# def plot_matrix(mat):\n",
    "#     fig1, ax1 = mpl.pyplot.subplots(figsize=(10,10))\n",
    "#     M1 = np.absolute(mat)\n",
    "#     sns.heatmap(M1, annot =True, fmt = '0.2f', linewidths=.5, ax=ax1)\n",
    "# plot_matrix(U)\n",
    "\n",
    "# from may4_challenge.ex4 import submit_circuit\n",
    "# submit_circuit(new_qc)\n",
    "# f = transpile(qc_basis, basis_gates=['u3', 'cx'], optimization_level=3)\n",
    "# g = f.decompose()\n",
    "# g.measure([0,1,2,3],[0,1,2,3])\n",
    "# result = execute(g, backend=sim,shots = 1024).result() # we run the simulation\n",
    "# c = result.get_counts()\n",
    "# plot_histogram(c)\n",
    "# g.draw(output = 'mpl')\n",
    "# check_circuit(new_qc)\n",
    "\n",
    "      "
   ]
  },
  {
   "cell_type": "code",
   "execution_count": 15,
   "metadata": {},
   "outputs": [
    {
     "name": "stdout",
     "output_type": "stream",
     "text": [
      "Circuit stats:\n",
      "||U-V||_2 = 1.9876050222189339\n",
      "(U is the reference unitary, V is yours, and the global phase has been removed from both of them).\n",
      "Unable to compute cost: double check your circuit is made of `u3` and `cx` gates only.\n",
      "\n",
      "Something is not right with your circuit: the circuit contains something else than `u3` and `cx` gates\n"
     ]
    }
   ],
   "source": [
    "##### check your quantum circuit by running the next line\n",
    "check_circuit(qc)"
   ]
  },
  {
   "cell_type": "markdown",
   "metadata": {},
   "source": [
    "You can check whether your circuit is valid before submitting it with `check_circuit(qc)`. Once you have a valid solution, please submit it by running the following cell (delete the `#` before `submit_circuit`). You can re-submit at any time.\n"
   ]
  },
  {
   "cell_type": "code",
   "execution_count": null,
   "metadata": {},
   "outputs": [],
   "source": [
    "# Send the circuit as the final answer, can re-submit at any time\n",
    "#submit_circuit(qc) "
   ]
  }
 ],
 "metadata": {
  "kernelspec": {
   "display_name": "Python 3",
   "language": "python",
   "name": "python3"
  },
  "language_info": {
   "codemirror_mode": {
    "name": "ipython",
    "version": 3
   },
   "file_extension": ".py",
   "mimetype": "text/x-python",
   "name": "python",
   "nbconvert_exporter": "python",
   "pygments_lexer": "ipython3",
   "version": "3.7.6"
  }
 },
 "nbformat": 4,
 "nbformat_minor": 4
}
